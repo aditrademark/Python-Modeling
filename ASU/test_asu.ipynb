{
 "cells": [
  {
   "cell_type": "code",
   "execution_count": 2,
   "id": "6b19ee47",
   "metadata": {},
   "outputs": [
    {
     "name": "stdout",
     "output_type": "stream",
     "text": [
      "osm2gmns, 0.7.3\n",
      "grid2demand, version 0.3.8\n"
     ]
    }
   ],
   "source": [
    "# Import modules\n",
    "from __future__ import absolute_import\n",
    "import osm2gmns as og\n",
    "import pandas as pd\n",
    "from grid2demand import GRID2DEMAND\n",
    "import path4gmns as pg"
   ]
  },
  {
   "cell_type": "code",
   "execution_count": 10,
   "id": "1dbb6987",
   "metadata": {},
   "outputs": [
    {
     "name": "stdout",
     "output_type": "stream",
     "text": [
      "arguments used for network parsing:\n",
      "  filename: C:\\Users\\aditr\\OneDrive\\Desktop\\Arizona State University\\GitHub\\Python Modeling\\ASU\\Code\\asu.osm\n",
      "  network_types: ('auto', 'bike', 'walk', 'railway')\n",
      "  link_types: all\n",
      "  POI: False\n",
      "  POI_sampling_ratio: 1.0\n",
      "  strict_mode: False\n",
      "  offset: no\n",
      "  min_nodes: 10\n",
      "  combine: False\n",
      "  bbox: None\n",
      "  default_lanes: False\n",
      "  default_speed: False\n",
      "  default_capacity: False\n",
      "  start_node_id: 1\n",
      "  start_link_id: 1\n",
      "\n",
      "Building Network from OSM file\n",
      "  reading osm file\n",
      "  parsing osm network\n",
      "    generating nodes and links\n",
      "    removing sub networks with less than 10 nodes\n",
      "  number of nodes: 2790, number of links: 5195, number of pois: 0\n",
      "No POIs found in the network. Please set POIs=True when creating network from osm file\n",
      "Generating Node Activity Information\n",
      "Outputting Network Files\n"
     ]
    }
   ],
   "source": [
    "# Produce routable network along with POIs\n",
    "net = og.getNetFromFile('asu.osm', \n",
    "                        network_types=('auto','bike','walk'), \n",
    "                        POI=True,\n",
    "                        POI_sampling_ratio=1,\n",
    "                        strict_mode=True, \n",
    "                        min_nodes=10,\n",
    "                        default_lanes=True, \n",
    "                        default_speed=True, \n",
    "                        default_capacity=True, \n",
    "                        start_node_id=1, \n",
    "                        start_link_id=1)\n",
    "default_lanes_dict = {'motorway': 4, 'trunk': 3, 'primary': 3, 'secondary': 2, 'tertiary': 2,\n",
    "                      'residential': 1, 'service': 1, 'cycleway':1, 'footway':1, 'track':1,\n",
    "                      'unclassified': 1, 'connector': 2}\n",
    "default_speed_dict = {'motorway': 120, 'trunk': 100, 'primary': 80, 'secondary': 60, 'tertiary': 40,\n",
    "                      'residential': 30, 'service': 30, 'cycleway':5, 'footway':5, 'track':30,\n",
    "                      'unclassified': 30, 'connector':120}\n",
    "default_capacity_dict = {'motorway': 2300, 'trunk': 2200, 'primary': 1800, 'secondary': 1600, 'tertiary': 1200,\n",
    "                      'residential': 1000, 'service': 800, 'cycleway':800, 'footway':800, 'track':800,\n",
    "                      'unclassified': 800, 'connector':9999}\n",
    "og.connectPOIWithNet(net)\n",
    "og.generateNodeActivityInfo(net)\n",
    "og.outputNetToCSV(net)"
   ]
  },
  {
   "cell_type": "code",
   "execution_count": null,
   "id": "774e45ab",
   "metadata": {},
   "outputs": [],
   "source": [
    "# grid2demand\n",
    "if __name__ == \"__main__\":\n",
    "    # Step 0: Specify input directory, if not, use current working directory as default input directory\n",
    "    input_dir = \"C:/Users/aditr/OneDrive/Desktop/Arizona State University/GitHub/Python Modeling/ASU/Code/\"\n",
    "    \n",
    "    # Initialize a GRID2DEMAND object\n",
    "    gd = GRID2DEMAND(input_dir)\n",
    "\n",
    "    # Step 1: Load node and poi data from input directory\n",
    "    node_dict, poi_dict = gd.load_network.values()\n",
    "\n",
    "    # Step 2: Generate zone dictionary from node dictionary by specifying number of x blocks and y blocks\n",
    "    zone_dict = gd.net2zone(node_dict, num_x_blocks=25, num_y_blocks=25)\n",
    "    # # Generate zone based on grid size with 10 km width and 10km height for each zone\n",
    "    # zone_dict = gd.net2zone(node_dict, cell_width=10, cell_height=10)\n",
    "\n",
    "    # Step 3: synchronize geometry info between zone, node and poi\n",
    "    #       add zone_id to node and poi dictionaries\n",
    "    #       also add node_list and poi_list to zone dictionary\n",
    "    updated_dict = gd.sync_geometry_between_zone_and_node_poi(zone_dict, node_dict, poi_dict)\n",
    "    zone_dict_update, node_dict_update, poi_dict_update = updated_dict.values()\n",
    "\n",
    "    # Step 4: Calculate zone-to-zone od distance matrix\n",
    "    zone_od_distance_matrix = gd.calc_zone_od_distance_matrix(zone_dict_update)\n",
    "\n",
    "    # Step 5: Generate poi trip rate for each poi\n",
    "    poi_trip_rate = gd.gen_poi_trip_rate(poi_dict_update)\n",
    "\n",
    "    # Step 6: Generate node production attraction for each node based on poi_trip_rate\n",
    "    node_prod_attr = gd.gen_node_prod_attr(node_dict_update, poi_trip_rate)\n",
    "\n",
    "    # Step 6.1: Calculate zone production and attraction based on node production and attraction\n",
    "    zone_prod_attr = gd.calc_zone_prod_attr(node_prod_attr, zone_dict_update)\n",
    "\n",
    "    # Step 7: Run gravity model to generate agent-based demand\n",
    "    df_demand = gd.run_gravity_model(zone_prod_attr, zone_od_distance_matrix)\n",
    "\n",
    "    # Step 8: generate agent-based demand\n",
    "    df_agent = gd.gen_agent_based_demand(node_prod_attr, zone_prod_attr, df_demand=df_demand)\n",
    "\n",
    "    # You can also view and edit the package setting by using gd.pkg_settings\n",
    "    print(gd.pkg_settings)\n",
    "\n",
    "    # Step 9: Output demand, agent, zone, zone_od_dist_table, zone_od_dist_matrix files\n",
    "    gd.save_demand\n",
    "    gd.save_agent\n",
    "    gd.save_zone\n",
    "    gd.save_zone_od_dist_table\n",
    "    gd.save_zone_od_dist_matrix"
   ]
  },
  {
   "cell_type": "code",
   "execution_count": null,
   "id": "8cd37141",
   "metadata": {},
   "outputs": [],
   "source": [
    "# path4gmns zone synthesis\n",
    "network = pg.read_network()\n",
    "\n",
    "# by default, grid_dimension is 8, total_demand is 10,000,\n",
    "# time_budget is 120 min, mode is 'auto'\n",
    "pg.network_to_zones(network)\n",
    "pg.output_zones(network)\n",
    "# synthesized demand will be saved as demand.csv \n",
    "# and will overwrite any existing demand file with the same name.\n",
    "# synthesized zone will be output as zone.csv.\n",
    "pg.output_synthesized_demand(network)"
   ]
  },
  {
   "cell_type": "code",
   "execution_count": null,
   "id": "ed7c1a5d",
   "metadata": {},
   "outputs": [],
   "source": [
    "# path4gmns load demand\n",
    "network = pg.read_network()\n",
    "# it reads zone.csv by default\n",
    "pg.read_zones(network)\n",
    "# it reads demand.csv by default\n",
    "pg.load_demand(network)"
   ]
  },
  {
   "cell_type": "code",
   "execution_count": null,
   "id": "c9a41c26",
   "metadata": {},
   "outputs": [],
   "source": [
    "# path4gmns shortest path\n",
    "# create the network object by reading node.csv and link.csv\n",
    "network = pg.read_network(length_unit='meter', speed_unit='kph')\n",
    "x = 211\n",
    "y = 346\n",
    "\n",
    "# node path from node 1 to node 2\n",
    "print('\\nshortest path (node id) from node',x,'to node',y,','\n",
    "      +network.find_shortest_path(x, y, mode='r'))\n",
    "# link path from node 1 to node 2\n",
    "print('\\nshortest path (link id) from node',x,'to node',y,','\n",
    "      +network.find_shortest_path(x, y, mode='r',seq_type='link'))"
   ]
  },
  {
   "cell_type": "code",
   "execution_count": null,
   "id": "1a381dd6",
   "metadata": {},
   "outputs": [],
   "source": [
    "# path4gmns traffic assignment\n",
    "network = pg.read_network()\n",
    "pg.read_zones(network)\n",
    "pg.load_demand(network)\n",
    "\n",
    "# specify the parameters for traffic assignment\n",
    "column_gen_num = 10\n",
    "column_update_num = 10\n",
    "\n",
    "# path-based UE only\n",
    "pg.perform_column_generation(column_gen_num, column_update_num, network)\n",
    "pg.perform_simple_simulation(network)\n",
    "pg.output_agent_trajectory(network)\n",
    "# if you do not want to include geometry info in the output file,\n",
    "# use pg.output_columns(network, False)\n",
    "# output column information to agent.csv\n",
    "pg.output_columns(network)\n",
    "# output link performance to link_performance.csv\n",
    "pg.output_link_performance(network)"
   ]
  },
  {
   "cell_type": "code",
   "execution_count": null,
   "id": "d0397f62",
   "metadata": {},
   "outputs": [],
   "source": [
    "# path4gmns accessibility and equity evaluation\n",
    "network = pg.read_network()\n",
    "pg.read_zones(network)\n",
    "pg.evaluate_accessibility(network, single_mode=False)\n",
    "pg.evaluate_equity(network, single_mode=False)"
   ]
  }
 ],
 "metadata": {
  "kernelspec": {
   "display_name": "Python 3 (ipykernel)",
   "language": "python",
   "name": "python3"
  },
  "language_info": {
   "codemirror_mode": {
    "name": "ipython",
    "version": 3
   },
   "file_extension": ".py",
   "mimetype": "text/x-python",
   "name": "python",
   "nbconvert_exporter": "python",
   "pygments_lexer": "ipython3",
   "version": "3.10.9"
  }
 },
 "nbformat": 4,
 "nbformat_minor": 5
}
